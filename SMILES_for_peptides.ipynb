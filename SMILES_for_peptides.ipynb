{
  "nbformat": 4,
  "nbformat_minor": 0,
  "metadata": {
    "colab": {
      "provenance": [],
      "authorship_tag": "ABX9TyP27NzD0Q1qmaX6dVou+81V",
      "include_colab_link": true
    },
    "kernelspec": {
      "name": "python3",
      "display_name": "Python 3"
    },
    "language_info": {
      "name": "python"
    }
  },
  "cells": [
    {
      "cell_type": "markdown",
      "metadata": {
        "id": "view-in-github",
        "colab_type": "text"
      },
      "source": [
        "<a href=\"https://colab.research.google.com/github/NooraAz/random_snippets/blob/main/SMILES_for_peptides.ipynb\" target=\"_parent\"><img src=\"https://colab.research.google.com/assets/colab-badge.svg\" alt=\"Open In Colab\"/></a>"
      ]
    },
    {
      "cell_type": "code",
      "execution_count": 11,
      "metadata": {
        "cellView": "form",
        "id": "6dThs8Ey76f7"
      },
      "outputs": [],
      "source": [
        "#@markdown Initiating the code\n",
        "\n",
        "'''\n",
        "The SMILES notations for each aminoacid\n",
        "are taken from this database:\n",
        "https://biochemia.uwm.edu.pl/en/biopep-uwm-2/\n",
        "'''\n",
        "smiles_aa = {\n",
        "\n",
        "    'N-ter-cyclic': 'N1C',\n",
        "    'Nmethyl-cyclic': 'CN1C',\n",
        "\n",
        "    'N-ter':'NC',\n",
        "    'Nmethyl':'N(C)C',\n",
        "\n",
        "    'G':'',\n",
        "\n",
        "    'A':'(C)',\n",
        "    'C':'(CS)',\n",
        "    'D':'(CC(=O)O)',\n",
        "    'E':'(CCC(=O)O)',\n",
        "    'F':'(CC1=CC=C(C=C1))',\n",
        "    'H':'(CC1=CN=C[NH]1)',\n",
        "    'I':'(C(CC)C)',\n",
        "    'K':'(CCCCN)',\n",
        "    'L':'(CC(C)C)',\n",
        "    'M':'(CCSC)',\n",
        "    'N':'(CC(=O)N)',\n",
        "    'P':'(CCC1)',\n",
        "    'Q':'(CCC(=O)N)',\n",
        "    'R':'(CCCNC(=N)N)',\n",
        "    'S':'(CO)C(=O)O',\n",
        "    'T':'(C(O)C)',\n",
        "    'V':'(C(C)C)',\n",
        "    'W':'(CC1=C[NH]C2=CC=CC=C12)',\n",
        "    'Y':'(CC1=CC=C(C=C1)O)',\n",
        "\n",
        "    'C-ter' : 'C(=O)O',\n",
        "    'C-ter-cyclic' : 'C1(=O)',\n",
        "\n",
        "}\n",
        "\n",
        "def peptide_smiles(seq,n_positions,cyclic=False):\n",
        "\n",
        "    smiles_notation = []\n",
        "\n",
        "    for index,r in enumerate(seq):\n",
        "        if index+1 in n_positions :\n",
        "            smiles_notation.append(smiles_aa['Nmethyl'])\n",
        "        else:\n",
        "            smiles_notation.append(smiles_aa['N-ter'])\n",
        "\n",
        "        smiles_notation.append(smiles_aa[r])\n",
        "        smiles_notation.append(smiles_aa['C-ter'])\n",
        "\n",
        "\n",
        "    if cyclic:\n",
        "        if 1 in n_positions:\n",
        "            smiles_notation[0] = smiles_aa['Nmethyl-cyclic']\n",
        "        else:\n",
        "            smiles_notation[0] = smiles_aa['N-ter-cyclic']\n",
        "\n",
        "        smiles_notation[-1] = smiles_aa['C-ter-cyclic']\n",
        "\n",
        "    return ''.join(smiles_notation)\n",
        "\n",
        "\n",
        ""
      ]
    },
    {
      "cell_type": "code",
      "source": [
        "#@markdown Write your peptide sequence here (all uppercase)\n",
        "\n",
        "sequence = 'AILR' #@param {type:\"string\"}\n",
        "\n",
        "#@markdown Check if it is cyclic\n",
        "head_to_tail_cyclic = True #@param {type:\"boolean\"}\n",
        "\n",
        "#@markdown Write n-methylated positions comma seperated (starts with 1) [e.g. 1,2,5]\n",
        "n_methylation_positions = '1,2' #@param {type:\"string\"}\n",
        "n_methyl = [int(i) for i in n_methylation_positions.split(',')]\n",
        "\n",
        "s = peptide_smiles(sequence,n_methyl,head_to_tail_cyclic)\n",
        "\n",
        "print(s)"
      ],
      "metadata": {
        "colab": {
          "base_uri": "https://localhost:8080/"
        },
        "cellView": "form",
        "id": "VzkKjR-t8QVK",
        "outputId": "ce5918ac-9178-403b-af22-3e8351387d6c"
      },
      "execution_count": 12,
      "outputs": [
        {
          "output_type": "stream",
          "name": "stdout",
          "text": [
            "CN1C(C)C(=O)ON(C)C(C(CC)C)C(=O)ONC(CC(C)C)C(=O)ONC(CCCNC(=N)N)C1(=O)\n"
          ]
        }
      ]
    },
    {
      "cell_type": "code",
      "source": [
        "#@markdown you can double check your structure here:\n",
        "\n",
        "#@markdown [Draw SMILES](https://pubchem.ncbi.nlm.nih.gov//edit3/index.html)"
      ],
      "metadata": {
        "cellView": "form",
        "id": "DIMHz9TiArVy"
      },
      "execution_count": null,
      "outputs": []
    }
  ]
}